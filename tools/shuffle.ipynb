{
 "cells": [
  {
   "cell_type": "code",
   "execution_count": 2,
   "metadata": {},
   "outputs": [],
   "source": [
    "import os\n",
    "import random\n",
    "import shutil"
   ]
  },
  {
   "cell_type": "code",
   "execution_count": 2,
   "metadata": {},
   "outputs": [],
   "source": [
    "f = open('C:/code/yolo/yolov7/data/all/coco.txt', encoding='UTF-16')\n",
    "coco_list = f.readlines()\n",
    "f.close()"
   ]
  },
  {
   "cell_type": "code",
   "execution_count": 3,
   "metadata": {},
   "outputs": [],
   "source": [
    "f = open('C:/code/yolo/yolov7/data/all/voc.txt', encoding='UTF-16')\n",
    "voc_list = f.readlines()\n",
    "f.close()"
   ]
  },
  {
   "cell_type": "code",
   "execution_count": 4,
   "metadata": {},
   "outputs": [],
   "source": [
    "random.shuffle(coco_list)\n",
    "random.shuffle(voc_list)"
   ]
  },
  {
   "cell_type": "code",
   "execution_count": 7,
   "metadata": {},
   "outputs": [],
   "source": [
    "list = coco_list[:20000] + voc_list[:15000]"
   ]
  },
  {
   "cell_type": "code",
   "execution_count": 8,
   "metadata": {},
   "outputs": [
    {
     "data": {
      "text/plain": [
       "35000"
      ]
     },
     "execution_count": 8,
     "metadata": {},
     "output_type": "execute_result"
    }
   ],
   "source": [
    "len(list)"
   ]
  },
  {
   "cell_type": "code",
   "execution_count": 11,
   "metadata": {},
   "outputs": [],
   "source": [
    "random.shuffle(list)"
   ]
  },
  {
   "cell_type": "code",
   "execution_count": 12,
   "metadata": {},
   "outputs": [
    {
     "data": {
      "text/plain": [
       "['C:/code/yolo/yolov7/data/coco_person/images/train2017/000000251856.jpg\\n',\n",
       " 'C:/code/yolo/yolov7/data/coco_person/images/val2017/000000052507.jpg\\n',\n",
       " 'C:/code/yolo/yolov7/data/VOCdevkit/VOC2012/JPEGImages/2009_002703.jpg\\n',\n",
       " 'C:/code/yolo/yolov7/data/VOCdevkit/VOC2012/JPEGImages/2008_003249.jpg\\n',\n",
       " 'C:/code/yolo/yolov7/data/coco_person/images/train2017/000000018982.jpg\\n',\n",
       " 'C:/code/yolo/yolov7/data/coco_person/images/train2017/000000256184.jpg\\n',\n",
       " 'C:/code/yolo/yolov7/data/coco_person/images/train2017/000000210848.jpg\\n',\n",
       " 'C:/code/yolo/yolov7/data/VOCdevkit/VOC2007/JPEGImages/002353.jpg\\n',\n",
       " 'C:/code/yolo/yolov7/data/VOCdevkit/VOC2012/JPEGImages/2008_001661.jpg\\n',\n",
       " 'C:/code/yolo/yolov7/data/coco_person/images/train2017/000000456199.jpg\\n']"
      ]
     },
     "execution_count": 12,
     "metadata": {},
     "output_type": "execute_result"
    }
   ],
   "source": [
    "list[:10]"
   ]
  },
  {
   "cell_type": "code",
   "execution_count": 18,
   "metadata": {},
   "outputs": [],
   "source": [
    "with open('C:/code/yolo/yolov7/data/all/train.txt', encoding='UTF-8', mode='w') as f:\n",
    "    f.writelines(list[3500:])"
   ]
  },
  {
   "cell_type": "code",
   "execution_count": 19,
   "metadata": {},
   "outputs": [],
   "source": [
    "with open('C:/code/yolo/yolov7/data/all/test.txt', encoding='UTF-8', mode='w') as f:\n",
    "    f.writelines(list[:3500])"
   ]
  },
  {
   "cell_type": "code",
   "execution_count": 3,
   "metadata": {},
   "outputs": [],
   "source": [
    "path_img=\"C:/code/yolo/yolov7/data/all/images/train/\"\n",
    "path_lab=\"C:/code/yolo/yolov7/data/all/images/labels/\""
   ]
  },
  {
   "cell_type": "code",
   "execution_count": null,
   "metadata": {},
   "outputs": [],
   "source": [
    "f = open('C:/code/yolo/yolov7/data/all/test.txt', 'r')\n",
    "for line in f:\n",
    "    line=line.split('\\n')\n",
    "    shutil.copy(line[0], path_lab)\n",
    "f.close()"
   ]
  },
  {
   "cell_type": "code",
   "execution_count": null,
   "metadata": {},
   "outputs": [],
   "source": [
    "def re_mycopyfile(srcfile,dstfile,dstlab,num):\n",
    "    name_long=6\n",
    "    l=len(str(num))\n",
    "    zero='00000000'\n",
    "    if not os.path.isfile(srcfile):\n",
    "        print (\"%s not exist!\"%(srcfile))\n",
    "    else:\n",
    "        #fpath,fname=os.path.split(dstfile)    #分离文件名和路径\n",
    "        if not os.path.exists(dstfile):\n",
    "            os.makedirs(dstfile) #创建路径\n",
    "        dstfile=dstfile+zero[:name_long-l-1]+str(num)+'.jpg'      \n",
    "        shutil.copyfile(srcfile,dstfile)      #复制文件\n",
    "        print \"copy %s -> %s\"%( srcfile,dstfile)\n"
   ]
  },
  {
   "cell_type": "code",
   "execution_count": null,
   "metadata": {},
   "outputs": [],
   "source": [
    " \n",
    "path1=\"/Users/sunny/Desktop/imglist.txt\"\n",
    "path2=\"/Users/sunny/Desktop/789/\"\n",
    "path3=\"/Users/sunny/Desktop/000/\"\n",
    "path4=\"/Users/sunny/Desktop/newlist.txt\"\n",
    "\n",
    "path_img=\"C:/code/yolo/yolov7/data/all/images/train/\"\n",
    "path_lab=\"C:/code/yolo/yolov7/data/all/images/labels/\"\n",
    "\n",
    "begin=0\n",
    "count=begin\n",
    "with open(path1,'r')as f:\n",
    "    for line in f:\n",
    "        line=line.split('\\n')\n",
    "        count=count+1\n",
    "        dstfile=path3\n",
    "        dstlab=path_lab\n",
    "        re_mycopyfile(line[0], dstfile, dstlab, count)\n",
    "\n",
    "count=begin\n",
    "name_long=6\n",
    "l=len(str(count+1))\n",
    "zero='00000000'\n",
    "with open(path1,'r')as f:\n",
    "    for line in f:\n",
    "        count=count+1\n",
    "        out_words=line.split('/')\n",
    "        out_words[-1]=zero[:name_long-l-1]+str(count)+'.jpg'\n",
    "        with open(path4,'a+') as fp:\n",
    "            fp.write(\"/\".join(out_words)+\"\\n\")\n"
   ]
  }
 ],
 "metadata": {
  "kernelspec": {
   "display_name": "base",
   "language": "python",
   "name": "python3"
  },
  "language_info": {
   "codemirror_mode": {
    "name": "ipython",
    "version": 3
   },
   "file_extension": ".py",
   "mimetype": "text/x-python",
   "name": "python",
   "nbconvert_exporter": "python",
   "pygments_lexer": "ipython3",
   "version": "3.8.12"
  },
  "orig_nbformat": 4
 },
 "nbformat": 4,
 "nbformat_minor": 2
}
